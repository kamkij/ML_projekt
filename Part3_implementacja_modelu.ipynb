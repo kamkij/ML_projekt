{
 "cells": [
  {
   "cell_type": "markdown",
   "metadata": {},
   "source": [
    "### Implementacja modelu uczenia maszynowego dla K=3 oraz dla podziału na 75% system treningowy i 25% system testowy"
   ]
  },
  {
   "cell_type": "markdown",
   "metadata": {},
   "source": [
    "Wczytanie bibliotek i pliku z danymi"
   ]
  },
  {
   "cell_type": "code",
   "execution_count": 1,
   "metadata": {},
   "outputs": [],
   "source": [
    "import random\n",
    "import pandas as pd\n",
    "import numpy as np\n",
    "from scipy.spatial import KDTree\n",
    "from sklearn.metrics import mean_absolute_error\n",
    "import matplotlib.pylab as plt\n",
    "from sklearn.model_selection import train_test_split\n",
    "from sklearn.neighbors import KNeighborsClassifier\n",
    "from sklearn.metrics import accuracy_score\n",
    "from collections import Counter"
   ]
  },
  {
   "cell_type": "code",
   "execution_count": 2,
   "metadata": {},
   "outputs": [
    {
     "name": "stdout",
     "output_type": "stream",
     "text": [
      "0        5\n",
      "1        5\n",
      "2        5\n",
      "3        6\n",
      "4        5\n",
      "        ..\n",
      "32480    6\n",
      "32481    5\n",
      "32482    6\n",
      "32483    7\n",
      "32484    6\n",
      "Name: quality, Length: 32485, dtype: int64\n"
     ]
    }
   ],
   "source": [
    "houses = pd.read_csv('wine_data/white_red.csv', sep=';')\n",
    "values = houses['quality']\n",
    "print(values)"
   ]
  },
  {
   "cell_type": "code",
   "execution_count": 3,
   "metadata": {},
   "outputs": [],
   "source": [
    "houses.drop('quality', 1, inplace=True)\n",
    "houses = (houses - houses.mean()) / (houses.max() - houses.min())\n",
    "houses = houses[['total sulfur dioxide', 'pH', 'alcohol']]"
   ]
  },
  {
   "cell_type": "code",
   "execution_count": 4,
   "metadata": {},
   "outputs": [],
   "source": [
    "kdtree = KDTree(houses)\n",
    "\n",
    "def classify(query_point, k):\n",
    "    _, idx = kdtree.query(query_point, k)\n",
    "    return np.argmax(np.bincount(values.iloc[idx]))\n"
   ]
  },
  {
   "cell_type": "code",
   "execution_count": 5,
   "metadata": {},
   "outputs": [],
   "source": [
    "test_rows = random.sample(houses.index.tolist(), int(round(len(houses) * .25)))  # 25%\n",
    "train_rows = set(range(len(houses))) - set(test_rows)\n",
    "df_test = houses.loc[test_rows]\n",
    "df_train = houses.drop(test_rows)\n",
    "test_values = values.loc[test_rows]\n",
    "train_values = values.loc[train_rows]\n",
    "train_classified_values = []\n",
    "test_classified_values = []\n",
    "train_actual_values = []\n",
    "test_actual_values = []"
   ]
  },
  {
   "cell_type": "code",
   "execution_count": 6,
   "metadata": {},
   "outputs": [
    {
     "name": "stdout",
     "output_type": "stream",
     "text": [
      "wartość błedu dla k=3 na systemie treningowym 75% wynosi:  0.004720078804793958\n",
      "wartość błedu dla k=3 na systemie testowym 25% wynosi:  0.005541189508681197\n"
     ]
    }
   ],
   "source": [
    "for _id, row in df_train.iterrows():\n",
    "    train_classified_values.append(classify(row, 3))\n",
    "    train_actual_values.append(train_values[_id])\n",
    "\n",
    "print('wartość błedu dla k=3 na systemie treningowym 75% wynosi: ',(mean_absolute_error(train_classified_values, train_actual_values)))\n",
    "\n",
    "for _id, row in df_test.iterrows():\n",
    "    test_classified_values.append(classify(row, 3))\n",
    "    test_actual_values.append(test_values[_id])\n",
    "print('wartość błedu dla k=3 na systemie testowym 25% wynosi: ',(mean_absolute_error(test_classified_values, test_actual_values)))\n"
   ]
  },
  {
   "cell_type": "markdown",
   "metadata": {},
   "source": [
    "#### Następnie sprawdzam dokładność modelu"
   ]
  },
  {
   "cell_type": "code",
   "execution_count": 7,
   "metadata": {},
   "outputs": [],
   "source": [
    "houses = pd.read_csv('wine_data/white_red.csv', sep=';')"
   ]
  },
  {
   "cell_type": "code",
   "execution_count": 8,
   "metadata": {},
   "outputs": [],
   "source": [
    "X = houses.drop('quality', axis=1)\n",
    "y = houses['quality']\n",
    "X_train, X_test, y_train, y_test = train_test_split(X, y, test_size=.25)"
   ]
  },
  {
   "cell_type": "code",
   "execution_count": 9,
   "metadata": {},
   "outputs": [
    {
     "name": "stdout",
     "output_type": "stream",
     "text": [
      "Dokladnosc wytrenowanego modelu dla systemu (treningowy i testowy w stosunku 75%:25%): 97.32824427480917%\n"
     ]
    }
   ],
   "source": [
    "model = KNeighborsClassifier(n_neighbors=3)\n",
    "model.fit(X_train, y_train)\n",
    "y_pred = model.predict(X_test)\n",
    "acc = (accuracy_score(y_test, y_pred)) * 100\n",
    "\n",
    "print(f'Dokladnosc wytrenowanego modelu dla systemu (treningowy i testowy w stosunku 75%:25%): {acc}%')"
   ]
  },
  {
   "cell_type": "markdown",
   "metadata": {},
   "source": [
    "###### Patrząc na dkoładność można by powiedzieć, że  model jest świetny."
   ]
  }
 ],
 "metadata": {
  "kernelspec": {
   "display_name": "Python 3",
   "language": "python",
   "name": "python3"
  },
  "language_info": {
   "codemirror_mode": {
    "name": "ipython",
    "version": 3
   },
   "file_extension": ".py",
   "mimetype": "text/x-python",
   "name": "python",
   "nbconvert_exporter": "python",
   "pygments_lexer": "ipython3",
   "version": "3.8.5"
  }
 },
 "nbformat": 4,
 "nbformat_minor": 4
}
